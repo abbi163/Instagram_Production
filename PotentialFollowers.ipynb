{
 "cells": [
  {
   "cell_type": "code",
   "execution_count": null,
   "metadata": {},
   "outputs": [],
   "source": []
  },
  {
   "cell_type": "markdown",
   "metadata": {},
   "source": [
    "### Instagram Data Extractor using Selenium !!\n",
    "\n",
    "In this notebook we will use the power of python and selenium to extract instagram data. We will use this data to find out whether the person is most likely to follow back if I interact with him by liking his profile pictures and following his account. "
   ]
  },
  {
   "cell_type": "markdown",
   "metadata": {},
   "source": [
    "For data collection we will be following these steps: \n",
    "\n",
    "1. Enter Hash tag using hashtag file of src\n",
    "2. Extract 300 user per hashtag\n",
    "3. Check whether those users are in UsersData table. \n",
    "4. Extract for only those whose data is not in the table.\n",
    "5. Recall back the userdata into dataframe, where date is today's date. \n",
    "\n"
   ]
  },
  {
   "cell_type": "code",
   "execution_count": 1,
   "metadata": {
    "scrolled": true
   },
   "outputs": [
    {
     "name": "stderr",
     "output_type": "stream",
     "text": [
      "C:\\Users\\PC\\Anaconda3\\envs\\Twitter\\lib\\site-packages\\win_unicode_console\\__init__.py:31: RuntimeWarning: sys.stdin.encoding == 'cp1252', whereas sys.stdout.encoding == 'UTF-8', readline hook consumer may assume they are the same\n",
      "  readline_hook.enable(use_pyreadline=use_pyreadline)\n",
      "C:\\Users\\PC\\Anaconda3\\envs\\Twitter\\lib\\site-packages\\sklearn\\externals\\joblib\\__init__.py:15: FutureWarning: sklearn.externals.joblib is deprecated in 0.21 and will be removed in 0.23. Please import this functionality directly from joblib, which can be installed with: pip install joblib. If this warning is raised when loading pickled models, you may need to re-serialize those models with scikit-learn 0.21+.\n",
      "  warnings.warn(msg, category=FutureWarning)\n"
     ]
    },
    {
     "name": "stdout",
     "output_type": "stream",
     "text": [
      "2020-08-19 09:59:50\n",
      "2020-08-19 09:59:49\n",
      "2020-08-19 09:59:49\n",
      "2020-08-19 09:59:49\n",
      "2020-08-19 09:59:48\n",
      "2020-08-19 09:59:48\n",
      "2020-08-19 09:59:47\n",
      "2020-08-19 09:59:47\n",
      "2020-08-19 09:59:46\n",
      "2020-08-19 09:59:46\n",
      "2020-08-19 09:59:46\n",
      "2020-08-19 09:59:46\n",
      "2020-08-19 09:59:46\n",
      "2020-08-19 09:59:45\n",
      "2020-08-19 09:59:44\n",
      "2020-08-19 09:59:44\n",
      "2020-08-19 09:59:43\n",
      "2020-08-19 09:59:43\n",
      "2020-08-19 09:59:43\n",
      "2020-08-19 09:59:43\n",
      "2020-08-19 09:59:43\n",
      "2020-08-19 09:59:43\n",
      "2020-08-19 09:59:42\n",
      "2020-08-19 09:59:42\n",
      "2020-08-19 09:59:42\n",
      "2020-08-19 09:59:42\n",
      "2020-08-19 09:59:42\n",
      "2020-08-19 09:59:42\n",
      "2020-08-19 09:59:41\n",
      "2020-08-19 09:59:41\n",
      "2020-08-19 09:59:41\n",
      "2020-08-19 09:59:40\n",
      "2020-08-19 09:59:40\n",
      "2020-08-19 09:59:40\n",
      "2020-08-19 09:59:40\n",
      "2020-08-19 09:59:40\n",
      "2020-08-19 09:59:39\n",
      "2020-08-19 09:59:39\n",
      "2020-08-19 09:59:38\n",
      "2020-08-19 09:59:37\n",
      "2020-08-19 09:59:35\n",
      "2020-08-19 09:59:30\n",
      "2020-08-19 09:58:03\n",
      "2020-08-19 09:54:55\n",
      "2020-08-19 09:54:49\n",
      "2020-08-19 09:51:17\n",
      "2020-08-19 07:24:40\n",
      "2020-08-19 06:44:04\n"
     ]
    }
   ],
   "source": [
    "\n",
    "\n",
    "# Change directory\n",
    "import os\n",
    "os.chdir('C:\\\\Users\\\\PC\\\\Instagram_Production\\\\V0.001')\n",
    "\n",
    "from src.data import data\n",
    "# Necessary imports\n",
    "from datetime import datetime, timedelta\n",
    "from itertools import dropwhile, takewhile\n",
    "from instaloader import Instaloader, Profile\n",
    "from src.insta import InstagramBot\n",
    "from sklearn.externals.joblib import load\n",
    "from src.FeatureExtraction import featureExtraction\n",
    "import sqlite3 as db\n",
    "import numpy as np\n",
    "import pandas as pd\n",
    "from numpy import random\n",
    "from selenium.common.exceptions import TimeoutException\n",
    "\n"
   ]
  },
  {
   "cell_type": "markdown",
   "metadata": {},
   "source": [
    "#### By selecting the following hashtag, it implies selecting the user who have liked the post having the following hashtag"
   ]
  },
  {
   "cell_type": "code",
   "execution_count": null,
   "metadata": {},
   "outputs": [],
   "source": [
    "hashtags = ['photography', 'cute']"
   ]
  },
  {
   "cell_type": "markdown",
   "metadata": {},
   "source": [
    "We will do the following stuff in the codes below: \n",
    "1. Extract 100 user per hashtag\n",
    "2. Check whether those users are in UsersData table.\n",
    "3. Extract for only those whose data is not in the table.\n",
    "4. Recall back the userdata into dataframe, where date is today's date."
   ]
  },
  {
   "cell_type": "code",
   "execution_count": null,
   "metadata": {},
   "outputs": [],
   "source": [
    "try:\n",
    "    t = random.randint(0, len(hashtags))\n",
    "    hashtag = hashtags[t]\n",
    "\n",
    "    # Step 2\n",
    "    L = Instaloader()\n",
    "    data = []\n",
    "    posts = L.get_hashtag_posts(hashtag)\n",
    "    likes = set()\n",
    "\n",
    "    today = datetime.today()\n",
    "    tomorrow = datetime.today() + timedelta(days = 2)\n",
    "    yesterday = datetime.today() + timedelta(days = -1)\n",
    "\n",
    "    # Since is big | less past \n",
    "    SINCE = tomorrow\n",
    "    # Until is small | past\n",
    "    UNTIL = yesterday\n",
    "\n",
    "    # Extract the list of people to send request to, note : We are selecting the users who are recently active. \n",
    "\n",
    "    for post in takewhile(lambda p: p.date > UNTIL, dropwhile(lambda p: p.date > SINCE, posts)):\n",
    "        print(post.date)\n",
    "        likes = post.get_likes()\n",
    "        for like in likes:\n",
    "            data.append(like.username)\n",
    "        users = np.unique(data)\n",
    "        if len(users) >= 100: \n",
    "            break;\n",
    "        else:\n",
    "            pass\n",
    "\n",
    "    # Step 3\n",
    "    # Connect to a database (or create one if it doesn't exist) for saving the list in database\n",
    "    conn = db.connect('data/sqldb/Ig_Data.db')\n",
    "    # Create a 'cursor' for executing commands\n",
    "    c = conn.cursor()\n",
    "\n",
    "    query_db = ''' SELECT * FROM UsersData'''\n",
    "    usersDB = pd.read_sql(query_db, conn)\n",
    "\n",
    "    alreadySaved = usersDB['username'].values\n",
    "\n",
    "    toCheck = []\n",
    "    for user in users:\n",
    "        if user in alreadySaved:\n",
    "            pass\n",
    "        else: \n",
    "            toCheck.append(user)\n",
    "\n",
    "    del alreadySaved\n",
    "    del usersDB\n",
    "    del data\n",
    "    del likes\n",
    "\n",
    "    # Step 4\n",
    "    ## Login using my account and checking for profile information\n",
    "    username = 'Enter your username'\n",
    "    password = 'Enter your password'\n",
    "\n",
    "    insta = InstagramBot(username, password)\n",
    "    insta.login()\n",
    "    # Step 5: Extract user data\n",
    "    for user in toCheck[:100]:\n",
    "        user, AccountType, posts, following, followers = insta.accountPrivacy(user)\n",
    "        query_insert = '''INSERT INTO UsersData VALUES ({}{}{},{}{}{},{}{}{},{},{},{})'''\\\n",
    "                    .format(\"'\", today.date() ,\"'\", \"'\", user, \"'\",\"'\", AccountType,\"'\", posts, following, followers)\n",
    "        c.execute(query_insert)\n",
    "        conn.commit()\n",
    "\n",
    "    # Step 6: Save data into SQL database!\n",
    "    query = '''SELECT * FROM UsersData WHERE date = {}{}{}'''.format(\"'\", today.date(), \"'\")\n",
    "    df = pd.read_sql(query, conn)\n",
    "    # assert len(df) == len(toCheck)\n",
    "except TimeoutException:\n",
    "    pass"
   ]
  },
  {
   "cell_type": "code",
   "execution_count": null,
   "metadata": {},
   "outputs": [],
   "source": []
  },
  {
   "cell_type": "code",
   "execution_count": null,
   "metadata": {},
   "outputs": [],
   "source": []
  },
  {
   "cell_type": "code",
   "execution_count": null,
   "metadata": {},
   "outputs": [],
   "source": []
  }
 ],
 "metadata": {
  "kernelspec": {
   "display_name": "Python 3",
   "language": "python",
   "name": "python3"
  },
  "language_info": {
   "codemirror_mode": {
    "name": "ipython",
    "version": 3
   },
   "file_extension": ".py",
   "mimetype": "text/x-python",
   "name": "python",
   "nbconvert_exporter": "python",
   "pygments_lexer": "ipython3",
   "version": "3.7.6"
  }
 },
 "nbformat": 4,
 "nbformat_minor": 4
}
